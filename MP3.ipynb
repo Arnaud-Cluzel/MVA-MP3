{
 "cells": [
  {
   "cell_type": "markdown",
   "metadata": {},
   "source": [
    "**You may need to install [OpenCV](https://pypi.python.org/pypi/opencv-python) and [scikit-video](http://www.scikit-video.org/stable/).**"
   ]
  },
  {
   "cell_type": "code",
   "execution_count": 76,
   "metadata": {},
   "outputs": [],
   "source": [
    "import keras\n",
    "import numpy as np\n",
    "import io\n",
    "import base64\n",
    "from IPython.display import HTML\n",
    "import skvideo.io\n",
    "import cv2\n",
    "import json\n",
    "\n",
    "from keras.models import Sequential,model_from_json\n",
    "from keras.layers.core import Dense\n",
    "from keras.optimizers import sgd\n",
    "from keras.layers import Conv2D, MaxPooling2D, Activation, AveragePooling2D,Reshape,BatchNormalization, Flatten"
   ]
  },
  {
   "cell_type": "markdown",
   "metadata": {},
   "source": [
    "# MiniProject #3: Deep Reinforcement Learning"
   ]
  },
  {
   "cell_type": "markdown",
   "metadata": {},
   "source": [
    "__Notations__: $E_p$ is the expectation under probability $p$. Please justify each of your answer and widely comment your code."
   ]
  },
  {
   "cell_type": "markdown",
   "metadata": {},
   "source": [
    "# Context"
   ]
  },
  {
   "cell_type": "markdown",
   "metadata": {},
   "source": [
    "In a reinforcement learning algorithm, we modelize each step $t$ as an action $a_t$ obtained from a state $s_t$, i.e. $\\{(a_{t},s_{t})_{t\\leq T}\\}$ having the Markov property. We consider a discount factor $\\gamma \\in [0,1]$ that ensures convergence. The goal is to find among all the policies $\\pi$, one that maximizes the expected reward:\n",
    "\n",
    "\\begin{equation*}\n",
    "R(\\pi)=\\sum_{t\\leq T}E_{p^{\\pi}}[\\gamma^t r(s_{t},a_{t})] \\> ,\n",
    "\\end{equation*}\n",
    "\n",
    "where: \n",
    "\\begin{equation*}p^{\\pi}(a_{0},a_{1},s_{1},...,a_{T},s_{T})=p(a_{0})\\prod_{t=1}^{T}\\pi(a_{t}|s_{t})p(s_{t+1}|s_{t},a_{t}) \\> .\n",
    "\\end{equation*}\n",
    "\n",
    "We note the $Q$-function:\n",
    "\n",
    "\\begin{equation*}Q^\\pi(s,a)=E_{p^{\\pi}}[\\sum_{t\\leq T}\\gamma^{t}r(s_{t},a_{t})|s_{0}=s,a_{0}=a] \\> .\n",
    "\\end{equation*}\n",
    "\n",
    "Thus, the optimal Q function is:\n",
    "\\begin{equation*}\n",
    "Q^*(s,a)=\\max_{\\pi}Q^\\pi(s,a) \\> .\n",
    "\\end{equation*}\n",
    "\n",
    "In this project, we will apply the deep reinforcement learning techniques to a simple game: an agent will have to learn from scratch a policy that will permit it maximizing a reward."
   ]
  },
  {
   "cell_type": "markdown",
   "metadata": {},
   "source": [
    "## The environment, the agent and the game"
   ]
  },
  {
   "cell_type": "markdown",
   "metadata": {},
   "source": [
    "### The environment"
   ]
  },
  {
   "cell_type": "markdown",
   "metadata": {},
   "source": [
    "```Environment``` is an abstract class that represents the states, rewards, and actions to obtain the new state."
   ]
  },
  {
   "cell_type": "code",
   "execution_count": 13,
   "metadata": {},
   "outputs": [],
   "source": [
    "class Environment(object):\n",
    "    def __init__(self):\n",
    "        pass\n",
    "\n",
    "    def act(self, act):\n",
    "        \"\"\"\n",
    "        One can act on the environment and obtain its reaction:\n",
    "        - the new state\n",
    "        - the reward of the new state\n",
    "        - should we continue the game?\n",
    "\n",
    "        :return: state, reward, game_over\n",
    "        \"\"\"\n",
    "        \n",
    "        \n",
    "        pass\n",
    "\n",
    "\n",
    "    def reset(self):\n",
    "        \"\"\"\n",
    "        Reinitialize the environment to a random state and returns\n",
    "        the original state\n",
    "\n",
    "        :return: state\n",
    "        \"\"\"\n",
    "        pass\n",
    "    \n",
    "    def draw(self):\n",
    "        \"\"\"\n",
    "        Visualize in the console or graphically the current state\n",
    "        \"\"\"\n",
    "        pass"
   ]
  },
  {
   "cell_type": "markdown",
   "metadata": {},
   "source": [
    "The method ```act``` allows to act on the environment at a given state $s_t$ (stored internally), via action $a_t$. The method will return the new state $s_{t+1}$, the reward $r(s_{t},a_{t})$ and determines if $t\\leq T$ (*game_over*).\n",
    "\n",
    "The method ```reset``` simply reinitializes the environment to a random state $s_0$.\n",
    "\n",
    "The method ```draw``` displays the current state $s_t$ (this is useful to check the behavior of the Agent).\n",
    "\n",
    "We modelize $s_t$ as a tensor, while $a_t$ is an integer."
   ]
  },
  {
   "cell_type": "markdown",
   "metadata": {},
   "source": [
    "### The Agent"
   ]
  },
  {
   "cell_type": "markdown",
   "metadata": {},
   "source": [
    "The goal of the ```Agent``` is to interact with the ```Environment``` by proposing actions $a_t$ obtained from a given state $s_t$ to attempt to maximize its __reward__ $r(s_t,a_t)$. We propose the following abstract class:"
   ]
  },
  {
   "cell_type": "code",
   "execution_count": 14,
   "metadata": {},
   "outputs": [],
   "source": [
    "class Agent(object):\n",
    "    def __init__(self, epsilon=0.1, n_action=4):\n",
    "        self.epsilon = epsilon\n",
    "        self.n_action = n_action\n",
    "    \n",
    "    def set_epsilon(self,e):\n",
    "        self.epsilon = e\n",
    "\n",
    "    def act(self,s,train=True):\n",
    "        \"\"\" This function should return the next action to do:\n",
    "        an integer between 0 and 4 (not included) with a random exploration of epsilon\"\"\"\n",
    "        if train:\n",
    "            if np.random.rand() <= self.epsilon:\n",
    "                a = np.random.randint(0, self.n_action, size=1)[0]\n",
    "            else:\n",
    "                a = self.learned_act(s)\n",
    "        else: # in some cases, this can improve the performance.. remove it if poor performances\n",
    "            a = self.learned_act(s)\n",
    "\n",
    "        return a\n",
    "\n",
    "    def learned_act(self,s):\n",
    "        \"\"\" Act via the policy of the agent, from a given state s\n",
    "        it proposes an action a\"\"\"\n",
    "        pass\n",
    "\n",
    "    def reinforce(self, s, n_s, a, r, game_over_):\n",
    "        \"\"\" This function is the core of the learning algorithm. \n",
    "        It takes as an input the current state s_, the next state n_s_\n",
    "        the action a_ used to move from s_ to n_s_ and the reward r_.\n",
    "        \n",
    "        Its goal is to learn a policy.\n",
    "        \"\"\"\n",
    "        pass\n",
    "\n",
    "    def save(self):\n",
    "        \"\"\" This function returns basic stats if applicable: the\n",
    "        loss and/or the model\"\"\"\n",
    "        pass\n",
    "\n",
    "    def load(self):\n",
    "        \"\"\" This function allows to restore a model\"\"\"\n",
    "        pass"
   ]
  },
  {
   "cell_type": "markdown",
   "metadata": {},
   "source": [
    "***\n",
    "__Question 1__:\n",
    "Explain the function act. Why is ```epsilon``` essential?"
   ]
  },
  {
   "cell_type": "markdown",
   "metadata": {},
   "source": [
    "The function act make the agent take an action according to the function learned acts (so the learned policy). If training is on then for each action, the function will chose a random action with probability epsilon instead of the learned policy. \n",
    "\n",
    "Epsilon is essential because if the model never takes random actions, it will only limits itself to what it knows and will never explore, and thus will have a high probability to miss the optimal solution."
   ]
  },
  {
   "cell_type": "markdown",
   "metadata": {},
   "source": [
    "***\n",
    "### The Game"
   ]
  },
  {
   "cell_type": "markdown",
   "metadata": {},
   "source": [
    "The ```Agent``` and the ```Environment``` work in an interlaced way as in the following (take some time to understand this code as it is the core of the project)\n",
    "\n",
    "```python\n",
    "\n",
    "epoch = 300\n",
    "env = Environment()\n",
    "agent = Agent()\n",
    "\n",
    "\n",
    "# Number of won games\n",
    "score = 0\n",
    "loss = 0\n",
    "\n",
    "\n",
    "for e in range(epoch):\n",
    "    # At each epoch, we restart to a fresh game and get the initial state\n",
    "    state = env.reset()\n",
    "    # This assumes that the games will end\n",
    "    game_over = False\n",
    "\n",
    "    win = 0\n",
    "    lose = 0\n",
    "    \n",
    "    while not game_over:\n",
    "        # The agent performs an action\n",
    "        action = agent.act(state)\n",
    "\n",
    "        # Apply an action to the environment, get the next state, the reward\n",
    "        # and if the games end\n",
    "        prev_state = state\n",
    "        state, reward, game_over = env.act(action)\n",
    "\n",
    "        # Update the counters\n",
    "        if reward > 0:\n",
    "            win = win + reward\n",
    "        if reward < 0:\n",
    "            lose = lose -reward\n",
    "\n",
    "        # Apply the reinforcement strategy\n",
    "        loss = agent.reinforce(prev_state, state,  action, reward, game_over)\n",
    "\n",
    "    # Save as a mp4\n",
    "    if e % 10 == 0:\n",
    "        env.draw(e)\n",
    "\n",
    "    # Update stats\n",
    "    score += win-lose\n",
    "\n",
    "    print(\"Epoch {:03d}/{:03d} | Loss {:.4f} | Win/lose count {}/{} ({})\"\n",
    "          .format(e, epoch, loss, win, lose, win-lose))\n",
    "    agent.save()\n",
    "```"
   ]
  },
  {
   "cell_type": "markdown",
   "metadata": {},
   "source": [
    "# The game, *eat cheese*"
   ]
  },
  {
   "cell_type": "markdown",
   "metadata": {},
   "source": [
    "A rat runs on an island and tries to eat as much as possible. The island is subdivided into $N\\times N$ cells, in which there are cheese (+0.5) and poisonous cells (-1). The rat has a visibility of 2 cells (thus it can see $5^2$ cells). The rat is given a time $T$ to accumulate as much food as possible. It can perform 4 actions: going up, down, left, right. \n",
    "\n",
    "The goal is to code an agent to solve this task that will learn by trial and error. We propose the following environment:"
   ]
  },
  {
   "cell_type": "code",
   "execution_count": 15,
   "metadata": {},
   "outputs": [],
   "source": [
    "class Environment(object):\n",
    "    def __init__(self, grid_size=10, max_time=500, temperature=0.1):\n",
    "        grid_size = grid_size+4\n",
    "        self.grid_size = grid_size\n",
    "        self.max_time = max_time\n",
    "        self.temperature = temperature\n",
    "\n",
    "        #board on which one plays\n",
    "        self.board = np.zeros((grid_size,grid_size))\n",
    "        self.position = np.zeros((grid_size,grid_size))\n",
    "\n",
    "        # coordinate of the rat\n",
    "        self.x = 0\n",
    "        self.y = 1\n",
    "\n",
    "        # self time\n",
    "        self.t = 0\n",
    "\n",
    "        self.scale=16\n",
    "\n",
    "        self.to_draw = np.zeros((max_time+2, grid_size*self.scale, grid_size*self.scale, 3))\n",
    "\n",
    "\n",
    "    def draw(self,e):\n",
    "        skvideo.io.vwrite(str(e) + '.mp4', self.to_draw)\n",
    "\n",
    "    def get_frame(self,t):\n",
    "        b = np.zeros((self.grid_size,self.grid_size,3))+128\n",
    "        b[self.board>0,0] = 256\n",
    "        b[self.board < 0, 2] = 256\n",
    "        b[self.x,self.y,:]=256\n",
    "        b[-2:,:,:]=0\n",
    "        b[:,-2:,:]=0\n",
    "        b[:2,:,:]=0\n",
    "        b[:,:2,:]=0\n",
    "        \n",
    "        b =  cv2.resize(b, None, fx=self.scale, fy=self.scale, interpolation=cv2.INTER_NEAREST)\n",
    "\n",
    "        self.to_draw[t,:,:,:]=b\n",
    "\n",
    "\n",
    "    def act(self, action):\n",
    "        \"\"\"This function returns the new state, reward and decides if the\n",
    "        game ends.\"\"\"\n",
    "\n",
    "        self.get_frame(int(self.t))\n",
    "\n",
    "        self.position = np.zeros((self.grid_size, self.grid_size))\n",
    "\n",
    "        self.position[0:2,:]= -1\n",
    "        self.position[:,0:2] = -1\n",
    "        self.position[-2:, :] = -1\n",
    "        self.position[-2:, :] = -1\n",
    "\n",
    "        self.position[self.x, self.y] = 1\n",
    "        if action == 0:\n",
    "            if self.x == self.grid_size-3:\n",
    "                self.x = self.x-1\n",
    "            else:\n",
    "                self.x = self.x + 1\n",
    "        elif action == 1:\n",
    "            if self.x == 2:\n",
    "                self.x = self.x+1\n",
    "            else:\n",
    "                self.x = self.x-1\n",
    "        elif action == 2:\n",
    "            if self.y == self.grid_size - 3:\n",
    "                self.y = self.y - 1\n",
    "            else:\n",
    "                self.y = self.y + 1\n",
    "        elif action == 3:\n",
    "            if self.y == 2:\n",
    "                self.y = self.y + 1\n",
    "            else:\n",
    "                self.y = self.y - 1\n",
    "        else:\n",
    "            RuntimeError('Error: action not recognized')\n",
    "\n",
    "        self.t = self.t + 1\n",
    "        reward = self.board[self.x, self.y]\n",
    "        self.board[self.x, self.y] = 0\n",
    "        game_over = self.t > self.max_time\n",
    "        state = np.concatenate((self.board.reshape(self.grid_size, self.grid_size,1),\n",
    "                        self.position.reshape(self.grid_size, self.grid_size,1)),axis=2)\n",
    "        state = state[self.x-2:self.x+3,self.y-2:self.y+3,:]\n",
    "\n",
    "        return state, reward, game_over\n",
    "\n",
    "    def reset(self):\n",
    "        \"\"\"This function resets the game and returns the initial state\"\"\"\n",
    "\n",
    "        self.x = np.random.randint(3, self.grid_size-3, size=1)[0]\n",
    "        self.y = np.random.randint(3, self.grid_size-3, size=1)[0]\n",
    "\n",
    "\n",
    "        bonus = 0.5*np.random.binomial(1,self.temperature,size=self.grid_size**2)\n",
    "        bonus = bonus.reshape(self.grid_size,self.grid_size)\n",
    "\n",
    "        malus = -1.0*np.random.binomial(1,self.temperature,size=self.grid_size**2)\n",
    "        malus = malus.reshape(self.grid_size, self.grid_size)\n",
    "\n",
    "        self.to_draw = np.zeros((self.max_time+2, self.grid_size*self.scale, self.grid_size*self.scale, 3))\n",
    "\n",
    "\n",
    "        malus[bonus>0]=0\n",
    "\n",
    "        self.board = bonus + malus\n",
    "\n",
    "        self.position = np.zeros((self.grid_size, self.grid_size))\n",
    "        self.position[0:2,:]= -1\n",
    "        self.position[:,0:2] = -1\n",
    "        self.position[-2:, :] = -1\n",
    "        self.position[-2:, :] = -1\n",
    "        self.board[self.x,self.y] = 0\n",
    "        self.t = 0\n",
    "\n",
    "        state = np.concatenate((\n",
    "                               self.board.reshape(self.grid_size, self.grid_size,1),\n",
    "                        self.position.reshape(self.grid_size, self.grid_size,1)),axis=2)\n",
    "\n",
    "        state = state[self.x - 2:self.x + 3, self.y - 2:self.y + 3, :]\n",
    "        return state"
   ]
  },
  {
   "cell_type": "markdown",
   "metadata": {},
   "source": [
    "The following elements are important because they correspond to the hyper parameters for this project:"
   ]
  },
  {
   "cell_type": "code",
   "execution_count": 16,
   "metadata": {},
   "outputs": [],
   "source": [
    "# parameters\n",
    "size = 13\n",
    "T=200\n",
    "temperature=0.3\n",
    "epochs_train=100 # set small when debugging\n",
    "epochs_test=15 # set small when debugging\n",
    "\n",
    "# display videos\n",
    "def display_videos(name):\n",
    "    video = io.open(name, 'r+b').read()\n",
    "    encoded = base64.b64encode(video)\n",
    "    return '''<video alt=\"test\" controls>\n",
    "                <source src=\"data:video/mp4;base64,{0}\" type=\"video/mp4\" />\n",
    "             </video>'''.format(encoded.decode('ascii'))"
   ]
  },
  {
   "cell_type": "markdown",
   "metadata": {},
   "source": [
    "__Question 2__ Explain the use of the arrays ```position``` and ```board```."
   ]
  },
  {
   "cell_type": "markdown",
   "metadata": {},
   "source": [
    "The array position informs us of the position of the rat on the board by giving the value 1 to where the rat is, and -1 to every other position.\n",
    "\n",
    "The array board informs us on the position of cheese, poison and empty cells on the board, by assigning each cell the values 0.5, -1 and 0 for cheese, poison and empty cells respectively."
   ]
  },
  {
   "cell_type": "markdown",
   "metadata": {},
   "source": [
    "## Random Agent"
   ]
  },
  {
   "cell_type": "markdown",
   "metadata": {},
   "source": [
    "***\n",
    "__Question 3__ Implement a random Agent (only ```learned_act``` needs to be implemented):"
   ]
  },
  {
   "cell_type": "code",
   "execution_count": 19,
   "metadata": {},
   "outputs": [],
   "source": [
    "class RandomAgent(Agent):\n",
    "    def __init__(self):\n",
    "        super(RandomAgent, self).__init__()\n",
    "        pass\n",
    "\n",
    "    def learned_act(self, s):\n",
    "        return np.random.randint(0,3)"
   ]
  },
  {
   "cell_type": "markdown",
   "metadata": {},
   "source": [
    "***\n",
    "***\n",
    "__Question 4__ Visualize the game moves. You need to fill in the following function for the evaluation:"
   ]
  },
  {
   "cell_type": "code",
   "execution_count": 23,
   "metadata": {},
   "outputs": [],
   "source": [
    "def test(agent,env,epochs,prefix=''):\n",
    "    # Number of won games\n",
    "    score = 0\n",
    "        \n",
    "    for e in range(epochs):\n",
    "        \n",
    "        # At each epoch, we restart to a fresh game and get the initial state\n",
    "        state = env.reset()\n",
    "        # This assumes that the games will end\n",
    "        game_over = False\n",
    "\n",
    "        win = 0\n",
    "        lose = 0\n",
    "        \n",
    "        while not game_over:\n",
    "            # The agent performs an action\n",
    "            action = agent.learned_act(state)\n",
    "\n",
    "            # Apply an action to the environment, get the next state, the reward\n",
    "            # and if the games end\n",
    "            prev_state = state\n",
    "            state, reward, game_over = env.act(action)\n",
    "\n",
    "            # Update the counters\n",
    "            if reward > 0:\n",
    "                win = win + reward\n",
    "            if reward < 0:\n",
    "                lose = lose -reward\n",
    "    \n",
    "        \n",
    "        # Save as a mp4\n",
    "        env.draw(prefix+str(e))\n",
    "\n",
    "        # Update stats\n",
    "        score = score + win-lose\n",
    "\n",
    "        print(\"Win/lose count {}/{}. Average score ({})\"\n",
    "              .format(win, lose, score/(1+e)))\n",
    "    print('Final score: '+str(score/epochs))"
   ]
  },
  {
   "cell_type": "code",
   "execution_count": 24,
   "metadata": {},
   "outputs": [
    {
     "name": "stdout",
     "output_type": "stream",
     "text": [
      "Win/lose count 5.5/7.0. Average score (-1.5)\n",
      "Win/lose count 4.0/6.0. Average score (-1.75)\n",
      "Win/lose count 3.5/14.0. Average score (-4.666666666666667)\n",
      "Win/lose count 5.5/9.0. Average score (-4.375)\n",
      "Win/lose count 7.5/14.0. Average score (-4.8)\n",
      "Win/lose count 5.5/4.0. Average score (-3.75)\n",
      "Win/lose count 4.0/6.0. Average score (-3.5)\n",
      "Win/lose count 3.5/7.0. Average score (-3.5)\n",
      "Win/lose count 4.0/2.0. Average score (-2.888888888888889)\n",
      "Win/lose count 4.0/3.0. Average score (-2.5)\n",
      "Win/lose count 6.5/10.0. Average score (-2.590909090909091)\n",
      "Win/lose count 4.0/4.0. Average score (-2.375)\n",
      "Win/lose count 4.5/14.0. Average score (-2.923076923076923)\n",
      "Win/lose count 5.0/8.0. Average score (-2.9285714285714284)\n",
      "Win/lose count 4.0/9.0. Average score (-3.066666666666667)\n",
      "Final score: -3.066666666666667\n"
     ]
    },
    {
     "data": {
      "text/html": [
       "<video alt=\"test\" controls>\n",
       "                <source src=\"data:video/mp4;base64,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\" type=\"video/mp4\" />\n",
       "             </video>"
      ],
      "text/plain": [
       "<IPython.core.display.HTML object>"
      ]
     },
     "execution_count": 24,
     "metadata": {},
     "output_type": "execute_result"
    }
   ],
   "source": [
    "# Initialize the game\n",
    "env = Environment(grid_size=size, max_time=T,temperature=temperature)\n",
    "\n",
    "# Initialize the agent!\n",
    "agent = RandomAgent()\n",
    "\n",
    "test(agent,env,epochs_test,prefix='random')\n",
    "HTML(display_videos('random0.mp4'))"
   ]
  },
  {
   "cell_type": "markdown",
   "metadata": {},
   "source": [
    "***\n",
    "## DQN"
   ]
  },
  {
   "cell_type": "markdown",
   "metadata": {},
   "source": [
    "Let us assume here that $T=\\infty$.\n",
    "\n",
    "***\n",
    "__Question 5__ Let $\\pi$ be a policy, show that:\n",
    "\n",
    "\\begin{equation*}\n",
    "Q^{\\pi}(s,a)=E_{(s',a')\\sim p(.|s,a)}[r(s,a)+\\gamma Q^{\\pi}(s',a')]\n",
    "\\end{equation*}\n",
    "\n",
    "Then, show that for the optimal policy $\\pi^*$ (we assume its existence), the following holds: \n",
    "\n",
    "\\begin{equation*}\n",
    "Q^{*}(s,a)=E_{s'\\sim \\pi^*(.|s,a)}[r(s,a)+\\gamma\\max_{a'}Q^{*}(s',a')].\n",
    "\\end{equation*}\n",
    "Finally, deduce that a plausible objective is:\n",
    "\n",
    "\\begin{equation*}\n",
    "\\mathcal{L}(\\theta)=E_{s' \\sim \\pi^*(.|s,a)}\\Vert r+\\gamma\\max\\max_{a'}Q(s',a',\\theta)-Q(s,a,\\theta)\\Vert^{2}.\n",
    "\\end{equation*}\n",
    "\n",
    "\n"
   ]
  },
  {
   "cell_type": "markdown",
   "metadata": {},
   "source": [
    "1.\n",
    "\n",
    "$Q^{\\pi}(s,a) = E[R_{t+1} + G_{t+1}|S_t = s, A_t = a]$\n",
    "\n",
    "$= E[R_{t+1}+ \\gamma v_{\\pi}(S_{t+1})|S_{t}|S_t = s, A_t = a] $\n",
    "\n",
    "$= E_{(s', a') \\sim p(.|s, a)}[r(s,a) + \\gamma Q^{\\pi}(s',a')]$\n",
    "\n",
    "2.\n",
    "\n",
    "$Q^*(s,a) = max(E_{(s', a')~ p(.|s, a)}[r(s,a) + \\gamma Q^{*}(s',a')])$\n",
    "\n",
    "$Q^*(s,a) = E_{s'\\sim \\pi^* (.|s, a)}[r(s,a) + \\gamma \\underset{a'}{\\text{max}}Q^{*}(s',a') $\n",
    "\n",
    "3.\n",
    "\n",
    "As we want our action value function to be as close to the optimal value function as possible, thus we want to minimize the difference between our value function and the optimal one:\n",
    "\n",
    "$\\mathcal{L}(\\theta) = ||Q^*(s,a, \\theta) -  Q^{\\pi}(s,a, \\theta)||$"
   ]
  },
  {
   "cell_type": "markdown",
   "metadata": {},
   "source": [
    "***\n",
    "The DQN-learning algorithm relies on these derivations to train the parameters $\\theta$ of a Deep Neural Network:\n",
    "\n",
    "1. At the state $s_t$, select the action $a_t$ with best reward using $Q_t$ and store the results;\n",
    "\n",
    "2. Obtain the new state $s_{t+1}$ from the environment $p$;\n",
    "\n",
    "3. Store $(s_t,a_t,s_{t+1})$;\n",
    "\n",
    "4. Obtain $Q_{t+1}$ by minimizing  $\\mathcal{L}$ from a recovered batch from the previously stored results.\n",
    "\n",
    "***\n",
    "__Question 6__ Implement the class ```Memory``` that stores moves (in a replay buffer) via ```remember``` and provides a ```random_access``` to these. Specify a maximum memory size to avoid side effects. You can for example use a ```list()``` and set by default ```max_memory=100```."
   ]
  },
  {
   "cell_type": "code",
   "execution_count": 72,
   "metadata": {},
   "outputs": [],
   "source": [
    "class Memory(object):\n",
    "    def __init__(self, max_memory=100):\n",
    "        self.max_memory = max_memory\n",
    "        self.memory = list()\n",
    "\n",
    "    def remember(self, m):\n",
    "        # When memory is full, deleting partially the memory. Number of memories deleted is random.\n",
    "        \n",
    "        if len(self.memory) < self.max_memory:\n",
    "            self.memory.append(m)\n",
    "        else:\n",
    "            rndm = np.random.randint(0,len(self.memory))\n",
    "            del self.memory[rndm:]\n",
    "            self.memory.append(m)\n",
    "\n",
    "    def random_access(self):\n",
    "        i = np.random.randint(0,len(self.memory))\n",
    "        return self.memory[i]"
   ]
  },
  {
   "cell_type": "markdown",
   "metadata": {},
   "source": [
    "***\n",
    "The pipeline we will use for training is given below:"
   ]
  },
  {
   "cell_type": "code",
   "execution_count": 107,
   "metadata": {},
   "outputs": [],
   "source": [
    "def train(agent,env,epoch,prefix=''):\n",
    "    # Number of won games\n",
    "    score = 0\n",
    "    loss = 0\n",
    "\n",
    "    for e in range(epoch):\n",
    "        # At each epoch, we restart to a fresh game and get the initial state\n",
    "        state = env.reset()\n",
    "        # This assumes that the games will terminate\n",
    "        game_over = False\n",
    "\n",
    "        win = 0\n",
    "        lose = 0\n",
    "\n",
    "        while not game_over:\n",
    "            # The agent performs an action\n",
    "            action = agent.act(state)\n",
    "\n",
    "            # Apply an action to the environment, get the next state, the reward\n",
    "            # and if the games end\n",
    "            prev_state = state\n",
    "            state, reward, game_over = env.act(action)\n",
    "\n",
    "            # Update the counters\n",
    "            if reward > 0:\n",
    "                win = win + reward\n",
    "            if reward < 0:\n",
    "                lose = lose -reward\n",
    "\n",
    "            # Apply the reinforcement strategy\n",
    "            loss = agent.reinforce(prev_state, state,  action, reward, game_over)\n",
    "\n",
    "        # Save as a mp4\n",
    "        if e % 10 == 0:\n",
    "            env.draw(prefix+str(e))\n",
    "\n",
    "        # Update stats\n",
    "        score += win-lose\n",
    "\n",
    "        if e % 5 == 0:\n",
    "            print(\"Epoch {:03d}/{:03d} | Loss {:.4f} | Win/lose count {}/{} ({})\"\n",
    "                  .format(e, epoch, loss, win, lose, win-lose))\n",
    "            agent.save(name_weights=prefix+'model.h5',name_model=prefix+'model.json')"
   ]
  },
  {
   "cell_type": "markdown",
   "metadata": {},
   "source": [
    "***\n",
    "__Question 7__ Implement the DQN training algorithm using a cascade of fully connected layers. You can use different learning rate, batch size or memory size parameters. In particular, the loss might oscillate while the player will start to win the games. You have to find a good criterium."
   ]
  },
  {
   "cell_type": "code",
   "execution_count": 103,
   "metadata": {},
   "outputs": [],
   "source": [
    "class DQN(Agent):\n",
    "    def __init__(self, grid_size,  epsilon = 0.1, memory_size=100, batch_size = 16,n_state=2):\n",
    "        super(DQN, self).__init__(epsilon = epsilon)\n",
    "\n",
    "        # Discount for Q learning\n",
    "        self.discount = 0.99\n",
    "        \n",
    "        self.grid_size = grid_size\n",
    "        \n",
    "        # number of state\n",
    "        self.n_state = n_state\n",
    "\n",
    "        # Memory\n",
    "        self.memory = Memory(memory_size)\n",
    "        \n",
    "        # Batch size when learning\n",
    "        self.batch_size = batch_size\n",
    "\n",
    "    def learned_act(self, s):\n",
    "        pred = self.model.predict(s.reshape(-1, 5, 5, self.n_state))\n",
    "        return np.argmax(pred)\n",
    "    \n",
    "    \n",
    "    def reinforce(self, s_, n_s_, a_, r_, game_over_):\n",
    "        # Two steps: first memorize the states, second learn from the pool\n",
    "        \n",
    "        \n",
    "        #Memorizing\n",
    "        self.memory.remember([s_, n_s_, a_, r_, game_over_])\n",
    "        \n",
    "        #Leaning from the pool\n",
    "        input_states = np.zeros((self.batch_size, 5,5,self.n_state))\n",
    "        target_q = np.zeros((self.batch_size, 4))\n",
    "        \n",
    "        for i in range(self.batch_size):\n",
    "            [s, n_s, a, r, game_over] = self.memory.random_access()   \n",
    "            \n",
    "            input_states[i] = s\n",
    "            target_q[i] = self.model.predict(s.reshape(-1,5,5,self.n_state))\n",
    "            \n",
    "            \n",
    "            if game_over_:\n",
    "                target_q[i, a] = r\n",
    "                \n",
    "            else:\n",
    "                target_q[i, a] = r + self.discount * np.max(self.model.predict(n_s.reshape(-1,5,5,self.n_state)))\n",
    "                \n",
    "                \n",
    "        # HINT: Clip the target to avoid exploiding gradients.. -- clipping is a bit tighter\n",
    "        target_q = np.clip(target_q, -3, 3)\n",
    "\n",
    "        l = self.model.train_on_batch(input_states, target_q)\n",
    "\n",
    "\n",
    "        return l\n",
    "\n",
    "    def save(self,name_weights='model.h5',name_model='model.json'):\n",
    "        self.model.save_weights(name_weights, overwrite=True)\n",
    "        with open(name_model, \"w\") as outfile:\n",
    "            json.dump(self.model.to_json(), outfile)\n",
    "            \n",
    "    def load(self,name_weights='model.h5',name_model='model.json'):\n",
    "        with open(name_model, \"r\") as jfile:\n",
    "            model = model_from_json(json.load(jfile))\n",
    "        model.load_weights(name_weights)\n",
    "        model.compile(\"sgd\", \"mse\")\n",
    "        self.model = model\n",
    "\n",
    "            \n",
    "class DQN_FC(DQN):\n",
    "    def __init__(self, *args, lr=0.1,**kwargs):\n",
    "        super(DQN_FC, self).__init__( *args,**kwargs)\n",
    "        \n",
    "        # NN Model\n",
    "        \n",
    "        model = Sequential()\n",
    "        model.add(Flatten(input_shape=(5, 5, self.n_state)))\n",
    "        model.add(Dense(20, activation='relu'))\n",
    "        model.add(Dense(4, activation='linear'))\n",
    "        \n",
    "        model.compile(sgd(lr=lr, decay=1e-4, momentum=0.0), \"mse\")\n",
    "        self.model = model\n",
    "        "
   ]
  },
  {
   "cell_type": "code",
   "execution_count": 104,
   "metadata": {},
   "outputs": [
    {
     "name": "stdout",
     "output_type": "stream",
     "text": [
      "Epoch 000/100 | Loss 0.0618 | Win/lose count 4.0/5.0 (-1.0)\n",
      "Epoch 001/100 | Loss 0.3989 | Win/lose count 7.5/8.0 (-0.5)\n",
      "Epoch 002/100 | Loss 0.5979 | Win/lose count 5.5/10.0 (-4.5)\n",
      "Epoch 003/100 | Loss 0.7118 | Win/lose count 6.0/2.0 (4.0)\n",
      "Epoch 004/100 | Loss 1.0980 | Win/lose count 1.5/5.0 (-3.5)\n",
      "Epoch 005/100 | Loss 1.4997 | Win/lose count 2.5/4.0 (-1.5)\n",
      "Epoch 006/100 | Loss 1.1581 | Win/lose count 4.0/5.0 (-1.0)\n",
      "Epoch 007/100 | Loss 1.5004 | Win/lose count 6.0/3.0 (3.0)\n",
      "Epoch 008/100 | Loss 1.3936 | Win/lose count 7.0/7.0 (0.0)\n",
      "Epoch 009/100 | Loss 1.4047 | Win/lose count 2.0/0 (2.0)\n",
      "Epoch 010/100 | Loss 1.6588 | Win/lose count 3.0/5.0 (-2.0)\n",
      "Epoch 011/100 | Loss 1.5849 | Win/lose count 4.5/4.0 (0.5)\n",
      "Epoch 012/100 | Loss 1.7003 | Win/lose count 4.0/3.0 (1.0)\n",
      "Epoch 013/100 | Loss 1.6511 | Win/lose count 8.0/3.0 (5.0)\n",
      "Epoch 014/100 | Loss 1.9127 | Win/lose count 5.0/3.0 (2.0)\n",
      "Epoch 015/100 | Loss 1.7562 | Win/lose count 8.0/2.0 (6.0)\n",
      "Epoch 016/100 | Loss 1.9619 | Win/lose count 5.0/0 (5.0)\n",
      "Epoch 017/100 | Loss 1.7963 | Win/lose count 8.0/3.0 (5.0)\n",
      "Epoch 018/100 | Loss 1.7676 | Win/lose count 10.0/3.0 (7.0)\n",
      "Epoch 019/100 | Loss 1.8524 | Win/lose count 9.5/2.0 (7.5)\n",
      "Epoch 020/100 | Loss 1.9347 | Win/lose count 2.5/0 (2.5)\n",
      "Epoch 021/100 | Loss 1.8963 | Win/lose count 5.0/0 (5.0)\n",
      "Epoch 022/100 | Loss 1.8612 | Win/lose count 9.0/2.0 (7.0)\n",
      "Epoch 023/100 | Loss 1.7807 | Win/lose count 10.5/2.0 (8.5)\n",
      "Epoch 024/100 | Loss 1.8005 | Win/lose count 5.5/2.0 (3.5)\n",
      "Epoch 025/100 | Loss 1.7276 | Win/lose count 2.5/3.0 (-0.5)\n",
      "Epoch 026/100 | Loss 1.7730 | Win/lose count 5.0/2.0 (3.0)\n",
      "Epoch 027/100 | Loss 1.7128 | Win/lose count 3.5/4.0 (-0.5)\n",
      "Epoch 028/100 | Loss 1.7880 | Win/lose count 9.0/7.0 (2.0)\n",
      "Epoch 029/100 | Loss 1.9725 | Win/lose count 8.0/4.0 (4.0)\n",
      "Epoch 030/100 | Loss 1.8763 | Win/lose count 10.0/5.0 (5.0)\n",
      "Epoch 031/100 | Loss 1.8125 | Win/lose count 4.0/5.0 (-1.0)\n",
      "Epoch 032/100 | Loss 1.6919 | Win/lose count 8.5/2.0 (6.5)\n",
      "Epoch 033/100 | Loss 1.7291 | Win/lose count 11.5/5.0 (6.5)\n",
      "Epoch 034/100 | Loss 1.7152 | Win/lose count 7.0/2.0 (5.0)\n",
      "Epoch 035/100 | Loss 1.6585 | Win/lose count 4.0/1.0 (3.0)\n",
      "Epoch 036/100 | Loss 1.8750 | Win/lose count 3.5/1.0 (2.5)\n",
      "Epoch 037/100 | Loss 1.8248 | Win/lose count 2.5/1.0 (1.5)\n",
      "Epoch 038/100 | Loss 1.7179 | Win/lose count 11.5/5.0 (6.5)\n",
      "Epoch 039/100 | Loss 1.7500 | Win/lose count 7.5/6.0 (1.5)\n",
      "Epoch 040/100 | Loss 1.7593 | Win/lose count 5.0/1.0 (4.0)\n",
      "Epoch 041/100 | Loss 1.7816 | Win/lose count 10.0/4.0 (6.0)\n",
      "Epoch 042/100 | Loss 1.7835 | Win/lose count 4.0/0 (4.0)\n",
      "Epoch 043/100 | Loss 1.7852 | Win/lose count 7.5/3.0 (4.5)\n",
      "Epoch 044/100 | Loss 1.7960 | Win/lose count 11.5/5.0 (6.5)\n",
      "Epoch 045/100 | Loss 1.8037 | Win/lose count 4.5/2.0 (2.5)\n",
      "Epoch 046/100 | Loss 1.7565 | Win/lose count 12.0/4.0 (8.0)\n",
      "Epoch 047/100 | Loss 1.7441 | Win/lose count 7.5/3.0 (4.5)\n",
      "Epoch 048/100 | Loss 1.6802 | Win/lose count 6.5/2.0 (4.5)\n",
      "Epoch 049/100 | Loss 1.7257 | Win/lose count 12.0/1.0 (11.0)\n",
      "Epoch 050/100 | Loss 1.8539 | Win/lose count 5.0/1.0 (4.0)\n",
      "Epoch 051/100 | Loss 1.8264 | Win/lose count 8.0/4.0 (4.0)\n",
      "Epoch 052/100 | Loss 1.8258 | Win/lose count 9.5/2.0 (7.5)\n",
      "Epoch 053/100 | Loss 1.7842 | Win/lose count 4.0/0 (4.0)\n",
      "Epoch 054/100 | Loss 1.8252 | Win/lose count 9.5/6.0 (3.5)\n",
      "Epoch 055/100 | Loss 1.7686 | Win/lose count 12.5/3.0 (9.5)\n",
      "Epoch 056/100 | Loss 1.7453 | Win/lose count 3.0/2.0 (1.0)\n",
      "Epoch 057/100 | Loss 1.8134 | Win/lose count 8.5/2.0 (6.5)\n",
      "Epoch 058/100 | Loss 1.7837 | Win/lose count 3.5/1.0 (2.5)\n",
      "Epoch 059/100 | Loss 1.8471 | Win/lose count 16.0/1.0 (15.0)\n",
      "Epoch 060/100 | Loss 1.9006 | Win/lose count 4.5/0 (4.5)\n",
      "Epoch 061/100 | Loss 1.9233 | Win/lose count 8.0/0 (8.0)\n",
      "Epoch 062/100 | Loss 1.9032 | Win/lose count 2.0/2.0 (0.0)\n",
      "Epoch 063/100 | Loss 1.7659 | Win/lose count 6.0/1.0 (5.0)\n",
      "Epoch 064/100 | Loss 1.8445 | Win/lose count 9.0/2.0 (7.0)\n",
      "Epoch 065/100 | Loss 1.7539 | Win/lose count 14.0/4.0 (10.0)\n",
      "Epoch 066/100 | Loss 1.7977 | Win/lose count 7.0/1.0 (6.0)\n",
      "Epoch 067/100 | Loss 1.8580 | Win/lose count 7.0/2.0 (5.0)\n",
      "Epoch 068/100 | Loss 1.9297 | Win/lose count 10.5/1.0 (9.5)\n",
      "Epoch 069/100 | Loss 1.7622 | Win/lose count 9.0/2.0 (7.0)\n",
      "Epoch 070/100 | Loss 1.8194 | Win/lose count 7.0/1.0 (6.0)\n",
      "Epoch 071/100 | Loss 1.7761 | Win/lose count 6.5/6.0 (0.5)\n",
      "Epoch 072/100 | Loss 1.8391 | Win/lose count 10.5/2.0 (8.5)\n",
      "Epoch 073/100 | Loss 1.7890 | Win/lose count 4.0/4.0 (0.0)\n",
      "Epoch 074/100 | Loss 1.8038 | Win/lose count 10.0/1.0 (9.0)\n",
      "Epoch 075/100 | Loss 1.7905 | Win/lose count 9.0/3.0 (6.0)\n",
      "Epoch 076/100 | Loss 1.6840 | Win/lose count 3.5/1.0 (2.5)\n",
      "Epoch 077/100 | Loss 1.8947 | Win/lose count 14.0/3.0 (11.0)\n",
      "Epoch 078/100 | Loss 1.8963 | Win/lose count 12.0/1.0 (11.0)\n",
      "Epoch 079/100 | Loss 1.8792 | Win/lose count 10.0/4.0 (6.0)\n",
      "Epoch 080/100 | Loss 1.7727 | Win/lose count 6.5/1.0 (5.5)\n",
      "Epoch 081/100 | Loss 1.8160 | Win/lose count 7.0/4.0 (3.0)\n",
      "Epoch 082/100 | Loss 1.8486 | Win/lose count 7.5/3.0 (4.5)\n",
      "Epoch 083/100 | Loss 1.7514 | Win/lose count 5.0/3.0 (2.0)\n",
      "Epoch 084/100 | Loss 1.7975 | Win/lose count 5.0/1.0 (4.0)\n",
      "Epoch 085/100 | Loss 1.8096 | Win/lose count 2.5/0 (2.5)\n",
      "Epoch 086/100 | Loss 1.8463 | Win/lose count 15.0/3.0 (12.0)\n",
      "Epoch 087/100 | Loss 1.8200 | Win/lose count 15.5/5.0 (10.5)\n",
      "Epoch 088/100 | Loss 1.7745 | Win/lose count 4.0/4.0 (0.0)\n",
      "Epoch 089/100 | Loss 1.8689 | Win/lose count 5.5/1.0 (4.5)\n",
      "Epoch 090/100 | Loss 1.8133 | Win/lose count 6.0/3.0 (3.0)\n",
      "Epoch 091/100 | Loss 1.6972 | Win/lose count 6.5/2.0 (4.5)\n",
      "Epoch 092/100 | Loss 1.7446 | Win/lose count 5.0/0 (5.0)\n",
      "Epoch 093/100 | Loss 1.7447 | Win/lose count 12.5/3.0 (9.5)\n",
      "Epoch 094/100 | Loss 1.8395 | Win/lose count 9.0/2.0 (7.0)\n",
      "Epoch 095/100 | Loss 1.7946 | Win/lose count 8.0/3.0 (5.0)\n",
      "Epoch 096/100 | Loss 1.7691 | Win/lose count 5.0/1.0 (4.0)\n",
      "Epoch 097/100 | Loss 1.8206 | Win/lose count 9.5/5.0 (4.5)\n",
      "Epoch 098/100 | Loss 1.7618 | Win/lose count 6.0/3.0 (3.0)\n",
      "Epoch 099/100 | Loss 1.7789 | Win/lose count 7.5/3.0 (4.5)\n"
     ]
    },
    {
     "data": {
      "text/html": [
       "<video alt=\"test\" controls>\n",
       "                <source src=\"data:video/mp4;base64,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\" type=\"video/mp4\" />\n",
       "             </video>"
      ],
      "text/plain": [
       "<IPython.core.display.HTML object>"
      ]
     },
     "execution_count": 104,
     "metadata": {},
     "output_type": "execute_result"
    }
   ],
   "source": [
    "env = Environment(grid_size=size, max_time=T, temperature=0.3)\n",
    "agent = DQN_FC(size, lr=.1, epsilon = 0.1, memory_size=2000, batch_size = 32)\n",
    "train(agent, env, epochs_train, prefix='fc_train')\n",
    "HTML(display_videos('fc_train10.mp4'))"
   ]
  },
  {
   "cell_type": "markdown",
   "metadata": {},
   "source": [
    "***\n",
    "***\n",
    "__Question 8__ Implement the DQN training algorithm using a CNN (for example, 2 convolutional layers and one final fully connected layer)."
   ]
  },
  {
   "cell_type": "code",
   "execution_count": 105,
   "metadata": {},
   "outputs": [],
   "source": [
    "class DQN_CNN(DQN):\n",
    "    def __init__(self, *args,lr=0.1,**kwargs):\n",
    "        super(DQN_CNN, self).__init__(*args,**kwargs)\n",
    "        \n",
    "        \n",
    "        ###### FILL IN\n",
    "        model = Sequential()\n",
    "        model.add(Conv2D(64, kernel_size=2, activation=\"relu\", input_shape=(5, 5, self.n_state)))\n",
    "        model.add(Conv2D(32, kernel_size=2, activation=\"relu\"))\n",
    "        model.add(Flatten())\n",
    "        model.add(Dense(4, activation=\"linear\"))        \n",
    "        \n",
    "        \n",
    "        model.compile(sgd(lr=lr, decay=1e-4, momentum=0.0), \"mse\")\n",
    "        self.model = model"
   ]
  },
  {
   "cell_type": "code",
   "execution_count": 108,
   "metadata": {},
   "outputs": [
    {
     "name": "stdout",
     "output_type": "stream",
     "text": [
      "Epoch 000/100 | Loss 0.1219 | Win/lose count 3.0/3.0 (0.0)\n",
      "Epoch 005/100 | Loss 0.9122 | Win/lose count 5.0/4.0 (1.0)\n",
      "Epoch 010/100 | Loss 1.7495 | Win/lose count 6.0/4.0 (2.0)\n",
      "Epoch 015/100 | Loss 1.7948 | Win/lose count 6.0/3.0 (3.0)\n",
      "Epoch 020/100 | Loss 1.8313 | Win/lose count 7.0/4.0 (3.0)\n",
      "Epoch 025/100 | Loss 1.7851 | Win/lose count 8.5/2.0 (6.5)\n",
      "Epoch 030/100 | Loss 1.8187 | Win/lose count 3.5/4.0 (-0.5)\n",
      "Epoch 035/100 | Loss 1.7579 | Win/lose count 14.0/8.0 (6.0)\n",
      "Epoch 040/100 | Loss 1.7868 | Win/lose count 12.5/5.0 (7.5)\n",
      "Epoch 045/100 | Loss 1.8291 | Win/lose count 8.0/2.0 (6.0)\n",
      "Epoch 050/100 | Loss 1.8115 | Win/lose count 9.0/4.0 (5.0)\n",
      "Epoch 055/100 | Loss 1.9015 | Win/lose count 9.0/5.0 (4.0)\n",
      "Epoch 060/100 | Loss 1.7991 | Win/lose count 14.5/3.0 (11.5)\n",
      "Epoch 065/100 | Loss 1.7382 | Win/lose count 19.5/4.0 (15.5)\n",
      "Epoch 070/100 | Loss 1.8723 | Win/lose count 16.5/5.0 (11.5)\n",
      "Epoch 075/100 | Loss 1.8005 | Win/lose count 18.5/4.0 (14.5)\n",
      "Epoch 080/100 | Loss 1.7924 | Win/lose count 8.0/2.0 (6.0)\n",
      "Epoch 085/100 | Loss 1.7491 | Win/lose count 12.0/0 (12.0)\n",
      "Epoch 090/100 | Loss 1.7760 | Win/lose count 16.0/1.0 (15.0)\n",
      "Epoch 095/100 | Loss 1.7242 | Win/lose count 11.5/2.0 (9.5)\n"
     ]
    },
    {
     "data": {
      "text/html": [
       "<video alt=\"test\" controls>\n",
       "                <source src=\"data:video/mp4;base64,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\" type=\"video/mp4\" />\n",
       "             </video>"
      ],
      "text/plain": [
       "<IPython.core.display.HTML object>"
      ]
     },
     "execution_count": 108,
     "metadata": {},
     "output_type": "execute_result"
    }
   ],
   "source": [
    "env = Environment(grid_size=size, max_time=T, temperature=0.3)\n",
    "agent = DQN_CNN(size, lr=.1, epsilon = 0.1, memory_size=2000, batch_size = 32)\n",
    "train(agent,env,epochs_train,prefix='cnn_train')\n",
    "HTML(display_videos('cnn_train10.mp4'))"
   ]
  },
  {
   "cell_type": "markdown",
   "metadata": {},
   "source": [
    "***\n",
    "***\n",
    "__Question 9__ Test both algorithms and compare their performances. Which issue(s) do you observe? Observe also different behaviors by changing the temperature."
   ]
  },
  {
   "cell_type": "code",
   "execution_count": 130,
   "metadata": {},
   "outputs": [
    {
     "name": "stdout",
     "output_type": "stream",
     "text": [
      "Test of the CNN\n",
      "Win/lose count 36.5/0. Average score (36.5)\n",
      "Win/lose count 43.5/1.0. Average score (39.5)\n",
      "Win/lose count 9.5/0. Average score (29.5)\n",
      "Win/lose count 28.5/0. Average score (29.25)\n",
      "Win/lose count 29.5/0. Average score (29.3)\n",
      "Win/lose count 28.5/1.0. Average score (29.0)\n",
      "Win/lose count 1.5/0. Average score (25.071428571428573)\n",
      "Win/lose count 30.0/0. Average score (25.6875)\n",
      "Win/lose count 7.0/0. Average score (23.61111111111111)\n",
      "Win/lose count 19.0/0. Average score (23.15)\n",
      "Win/lose count 20.5/0. Average score (22.90909090909091)\n",
      "Win/lose count 2.5/0. Average score (21.208333333333332)\n",
      "Win/lose count 12.0/0. Average score (20.5)\n",
      "Win/lose count 23.0/0. Average score (20.678571428571427)\n",
      "Win/lose count 18.0/1.0. Average score (20.433333333333334)\n",
      "Final score: 20.433333333333334\n",
      "Test of the FC\n",
      "Win/lose count 0.5/1.0. Average score (-0.5)\n",
      "Win/lose count 3.0/2.0. Average score (0.25)\n",
      "Win/lose count 4.5/3.0. Average score (0.6666666666666666)\n",
      "Win/lose count 3.0/3.0. Average score (0.5)\n",
      "Win/lose count 0.5/0. Average score (0.5)\n",
      "Win/lose count 1.0/0. Average score (0.5833333333333334)\n",
      "Win/lose count 2.0/0. Average score (0.7857142857142857)\n",
      "Win/lose count 1.5/0. Average score (0.875)\n",
      "Win/lose count 1.5/0. Average score (0.9444444444444444)\n",
      "Win/lose count 7.5/2.0. Average score (1.4)\n",
      "Win/lose count 1.0/1.0. Average score (1.2727272727272727)\n",
      "Win/lose count 7.0/1.0. Average score (1.6666666666666667)\n",
      "Win/lose count 3.5/1.0. Average score (1.7307692307692308)\n",
      "Win/lose count 1.5/0. Average score (1.7142857142857142)\n",
      "Win/lose count 3.0/1.0. Average score (1.7333333333333334)\n",
      "Final score: 1.7333333333333334\n"
     ]
    }
   ],
   "source": [
    "env = Environment(grid_size=size, max_time=T,temperature=0.9)\n",
    "agent_cnn = DQN_CNN(size, lr=.1, epsilon = 0.1, memory_size=2000, batch_size = 32)\n",
    "agent_cnn.load(name_weights='cnn_trainmodel.h5',name_model='cnn_trainmodel.json')\n",
    "\n",
    "agent_fc = DQN_FC(size, lr=.1, epsilon = 0.1, memory_size=2000, batch_size = 32)\n",
    "agent_cnn.load(name_weights='fc_trainmodel.h5',name_model='fc_trainmodel.json')\n",
    "print('Test of the CNN')\n",
    "test(agent_cnn,env,epochs_test,prefix='cnn_test')\n",
    "print('Test of the FC')\n",
    "test(agent_fc,env,epochs_test,prefix='fc_test')"
   ]
  },
  {
   "cell_type": "code",
   "execution_count": 131,
   "metadata": {},
   "outputs": [
    {
     "data": {
      "text/html": [
       "<video alt=\"test\" controls>\n",
       "                <source src=\"data:video/mp4;base64,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\" type=\"video/mp4\" />\n",
       "             </video>"
      ],
      "text/plain": [
       "<IPython.core.display.HTML object>"
      ]
     },
     "execution_count": 131,
     "metadata": {},
     "output_type": "execute_result"
    }
   ],
   "source": [
    "HTML(display_videos('cnn_test10.mp4'))"
   ]
  },
  {
   "cell_type": "code",
   "execution_count": 132,
   "metadata": {},
   "outputs": [
    {
     "data": {
      "text/html": [
       "<video alt=\"test\" controls>\n",
       "                <source src=\"data:video/mp4;base64,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\" type=\"video/mp4\" />\n",
       "             </video>"
      ],
      "text/plain": [
       "<IPython.core.display.HTML object>"
      ]
     },
     "execution_count": 132,
     "metadata": {},
     "output_type": "execute_result"
    }
   ],
   "source": [
    "HTML(display_videos('fc_test10.mp4'))"
   ]
  },
  {
   "cell_type": "markdown",
   "metadata": {},
   "source": [
    "The CNN performs better overall, through any type of temperature. The main issue observed is that the rat tend to get \"stuck\" and keep on performing the same two actions after a while, and thus only going back and forth between two cells.\n",
    "\n",
    "If the temperature is high, the CNN will explore much more, but will still get stuck eventually once it coners itself in an empty zone after having eaten everything in that zone. However raising the temperature does not help the CNN much, which still get stuck early."
   ]
  },
  {
   "cell_type": "markdown",
   "metadata": {},
   "source": [
    "***\n",
    "\n",
    "The algorithm tends to not explore the map which can be an issue. We propose two ideas in order to encourage exploration:\n",
    "1. Incorporating a decreasing $\\epsilon$-greedy exploration. You can use the method ```set_epsilon```\n",
    "2. Append via the environment a new state that describes if a cell has been visited or not\n",
    "\n",
    "***\n",
    "__Question 10__ Design a new ```train_explore``` function and environment class ```EnvironmentExploring``` to tackle the issue of exploration.\n",
    "\n"
   ]
  },
  {
   "cell_type": "code",
   "execution_count": 127,
   "metadata": {},
   "outputs": [],
   "source": [
    "def train_explore(agent,env,epoch,prefix=''):\n",
    "    # Number of won games\n",
    "    score = 0\n",
    "    loss = 0\n",
    "\n",
    "    for e in range(epoch):\n",
    "        # At each epoch, we restart to a fresh game and get the initial state\n",
    "        state = env.reset()\n",
    "        # This assumes that the games will terminate\n",
    "        game_over = False\n",
    "\n",
    "        #Actualising epsilon and reducing epsilon after each epoch\n",
    "        agent.set_epsilon(epsilon*(e*0.90))\n",
    "        \n",
    "        win = 0\n",
    "        lose = 0\n",
    "\n",
    "        while not game_over:\n",
    "            \n",
    "            # The agent performs an action\n",
    "            action = agent.act(state)\n",
    "\n",
    "            # Apply an action to the environment, get the next state, the reward\n",
    "            # and if the games end\n",
    "            prev_state = state\n",
    "            state, reward, game_over = env.act(action, train=True)\n",
    "\n",
    "            # Update the counters\n",
    "            if reward > 0:\n",
    "                win = win + reward\n",
    "            if reward < 0:\n",
    "                lose = lose -reward\n",
    "\n",
    "            # Apply the reinforcement strategy\n",
    "            loss = agent.reinforce(prev_state, state,  action, reward, game_over)\n",
    "            \n",
    "\n",
    "        # Save as a mp4\n",
    "        if e % 10 == 0:\n",
    "            env.draw(prefix+str(e))\n",
    "\n",
    "        # Update stats\n",
    "        score += win-lose\n",
    "\n",
    "        if e % 5 == 0:\n",
    "            print(\"Epoch {:03d}/{:03d} | Loss {:.4f} | Win/lose count {}/{} ({})\"\n",
    "                  .format(e, epoch, loss, win, lose, win-lose))\n",
    "            agent.save(name_weights=prefix+'model.h5',name_model=prefix+'model.json')\n",
    "        \n",
    "class EnvironmentExploring(object):\n",
    "    def __init__(self, grid_size=10, max_time=500, temperature=0.1):\n",
    "        grid_size = grid_size+4\n",
    "        self.grid_size = grid_size\n",
    "        self.max_time = max_time\n",
    "        self.temperature = temperature\n",
    "\n",
    "        #board on which one plays\n",
    "        self.board = np.zeros((grid_size,grid_size))\n",
    "        self.position = np.zeros((grid_size,grid_size))\n",
    "        #Adding the malus state which penalize for not exploring\n",
    "        self.malus_position = np.zeros((grid_size,grid_size))\n",
    "\n",
    "        # coordinate of the rat\n",
    "        self.x = 0\n",
    "        self.y = 1\n",
    "\n",
    "        # self time\n",
    "        self.t = 0\n",
    "\n",
    "        self.scale=16\n",
    "\n",
    "        self.to_draw = np.zeros((max_time+2, grid_size*self.scale, grid_size*self.scale, 3))\n",
    "\n",
    "\n",
    "    def draw(self,e):\n",
    "        skvideo.io.vwrite(str(e) + '.mp4', self.to_draw)\n",
    "\n",
    "    def get_frame(self,t):\n",
    "        b = np.zeros((self.grid_size,self.grid_size,3))+128\n",
    "        b[self.board>0,0] = 256\n",
    "        b[self.board < 0, 2] = 256\n",
    "        b[self.x,self.y,:]=256\n",
    "        b[-2:,:,:]=0\n",
    "        b[:,-2:,:]=0\n",
    "        b[:2,:,:]=0\n",
    "        b[:,:2,:]=0\n",
    "        \n",
    "        b =  cv2.resize(b, None, fx=self.scale, fy=self.scale, interpolation=cv2.INTER_NEAREST)\n",
    "\n",
    "        self.to_draw[t,:,:,:]=b\n",
    "\n",
    "\n",
    "    def act(self, action, train= False):\n",
    "        \"\"\"This function returns the new state, reward and decides if the\n",
    "        game ends.\"\"\"\n",
    "\n",
    "        self.get_frame(int(self.t))\n",
    "\n",
    "        self.position = np.zeros((self.grid_size, self.grid_size))\n",
    "\n",
    "        self.position[0:2,:]= -1\n",
    "        self.position[:,0:2] = -1\n",
    "        self.position[-2:, :] = -1\n",
    "        self.position[-2:, :] = -1\n",
    "\n",
    "        self.position[self.x, self.y] = 1\n",
    "        if action == 0:\n",
    "            if self.x == self.grid_size-3:\n",
    "                self.x = self.x-1\n",
    "            else:\n",
    "                self.x = self.x + 1\n",
    "        elif action == 1:\n",
    "            if self.x == 2:\n",
    "                self.x = self.x+1\n",
    "            else:\n",
    "                self.x = self.x-1\n",
    "        elif action == 2:\n",
    "            if self.y == self.grid_size - 3:\n",
    "                self.y = self.y - 1\n",
    "            else:\n",
    "                self.y = self.y + 1\n",
    "        elif action == 3:\n",
    "            if self.y == 2:\n",
    "                self.y = self.y + 1\n",
    "            else:\n",
    "                self.y = self.y - 1\n",
    "        else:\n",
    "            RuntimeError('Error: action not recognized')\n",
    "\n",
    "        self.t = self.t + 1\n",
    "        reward = 0\n",
    "        if train:\n",
    "            reward = -self.malus_position[self.x, self.y]\n",
    "        \n",
    "        # Recording which cells were visited\n",
    "        self.malus_position[self.x, self.y] = 0.1\n",
    "        \n",
    "        reward = reward + self.board[self.x, self.y]\n",
    "        self.board[self.x, self.y] = 0\n",
    "        game_over = self.t > self.max_time\n",
    "        # 3 \"feature\" states instead of 2\n",
    "        state = np.concatenate((self.malus_position.reshape(self.grid_size, self.grid_size,1),\n",
    "                                self.board.reshape(self.grid_size, self.grid_size,1),\n",
    "                        self.position.reshape(self.grid_size, self.grid_size,1)),axis=2)\n",
    "        \n",
    "        state = state[self.x-2:self.x+3,self.y-2:self.y+3,:]\n",
    "\n",
    "        return state, reward, game_over\n",
    "\n",
    "    def reset(self):\n",
    "        \"\"\"This function resets the game and returns the initial state\"\"\"\n",
    "\n",
    "        self.x = np.random.randint(3, self.grid_size-3, size=1)[0]\n",
    "        self.y = np.random.randint(3, self.grid_size-3, size=1)[0]\n",
    "\n",
    "\n",
    "        bonus = 0.5*np.random.binomial(1,self.temperature,size=self.grid_size**2)\n",
    "        bonus = bonus.reshape(self.grid_size,self.grid_size)\n",
    "\n",
    "        malus = -1.0*np.random.binomial(1,self.temperature,size=self.grid_size**2)\n",
    "        malus = malus.reshape(self.grid_size, self.grid_size)\n",
    "\n",
    "        self.to_draw = np.zeros((self.max_time+2, self.grid_size*self.scale, self.grid_size*self.scale, 3))\n",
    "\n",
    "\n",
    "        malus[bonus>0]=0\n",
    "\n",
    "        self.board = bonus + malus\n",
    "\n",
    "        self.position = np.zeros((self.grid_size, self.grid_size))\n",
    "        self.position[0:2,:]= -1\n",
    "        self.position[:,0:2] = -1\n",
    "        self.position[-2:, :] = -1\n",
    "        self.position[-2:, :] = -1\n",
    "        self.board[self.x,self.y] = 0\n",
    "        self.t = 0\n",
    "        \n",
    "        #reseting the malus position too\n",
    "        self.malus_position = np.zeros((self.grid_size, self.grid_size))\n",
    "\n",
    "        state = np.concatenate((self.malus_position.reshape(self.grid_size, self.grid_size,1),\n",
    "                                self.board.reshape(self.grid_size, self.grid_size,1),\n",
    "                        self.position.reshape(self.grid_size, self.grid_size,1)),axis=2)\n",
    "        \n",
    "        state = state[self.x - 2:self.x + 3, self.y - 2:self.y + 3, :]\n",
    "        return state"
   ]
  },
  {
   "cell_type": "code",
   "execution_count": 128,
   "metadata": {},
   "outputs": [
    {
     "name": "stdout",
     "output_type": "stream",
     "text": [
      "Epoch 000/100 | Loss 0.0131 | Win/lose count 7.5/20.29999999999997 (-12.799999999999969)\n",
      "Epoch 005/100 | Loss 1.7084 | Win/lose count 10.0/20.800000000000004 (-10.800000000000004)\n",
      "Epoch 010/100 | Loss 1.7283 | Win/lose count 10.5/22.700000000000028 (-12.200000000000028)\n",
      "Epoch 015/100 | Loss 1.6374 | Win/lose count 3.5/24.000000000000085 (-20.500000000000085)\n",
      "Epoch 020/100 | Loss 1.7011 | Win/lose count 14.0/22.900000000000027 (-8.900000000000027)\n",
      "Epoch 025/100 | Loss 1.8011 | Win/lose count 9.5/28.70000000000009 (-19.20000000000009)\n",
      "Epoch 030/100 | Loss 1.9763 | Win/lose count 9.0/26.300000000000114 (-17.300000000000114)\n",
      "Epoch 035/100 | Loss 1.8476 | Win/lose count 10.5/25.10000000000008 (-14.60000000000008)\n",
      "Epoch 040/100 | Loss 1.8618 | Win/lose count 11.5/26.00000000000007 (-14.500000000000071)\n",
      "Epoch 045/100 | Loss 1.7930 | Win/lose count 16.0/25.90000000000006 (-9.900000000000059)\n",
      "Epoch 050/100 | Loss 1.8694 | Win/lose count 6.5/23.00000000000006 (-16.50000000000006)\n",
      "Epoch 055/100 | Loss 1.8942 | Win/lose count 10.5/34.80000000000011 (-24.30000000000011)\n",
      "Epoch 060/100 | Loss 1.9170 | Win/lose count 13.5/25.300000000000058 (-11.800000000000058)\n",
      "Epoch 065/100 | Loss 1.9656 | Win/lose count 9.0/26.300000000000054 (-17.300000000000054)\n",
      "Epoch 070/100 | Loss 1.8928 | Win/lose count 11.0/29.000000000000068 (-18.000000000000068)\n",
      "Epoch 075/100 | Loss 1.8461 | Win/lose count 12.0/30.50000000000007 (-18.50000000000007)\n",
      "Epoch 080/100 | Loss 1.8202 | Win/lose count 7.0/28.600000000000115 (-21.600000000000115)\n",
      "Epoch 085/100 | Loss 1.9339 | Win/lose count 8.0/20.7 (-12.7)\n",
      "Epoch 090/100 | Loss 1.8364 | Win/lose count 11.0/27.60000000000006 (-16.60000000000006)\n",
      "Epoch 095/100 | Loss 1.8759 | Win/lose count 9.5/27.50000000000007 (-18.00000000000007)\n"
     ]
    },
    {
     "data": {
      "text/html": [
       "<video alt=\"test\" controls>\n",
       "                <source src=\"data:video/mp4;base64,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\" type=\"video/mp4\" />\n",
       "             </video>"
      ],
      "text/plain": [
       "<IPython.core.display.HTML object>"
      ]
     },
     "execution_count": 128,
     "metadata": {},
     "output_type": "execute_result"
    }
   ],
   "source": [
    "# Training\n",
    "env = EnvironmentExploring(grid_size=size, max_time=T, temperature=0.3)\n",
    "agent = DQN_CNN(size, lr=.1, epsilon = 0.1, memory_size=2000, batch_size = 32,n_state=3)\n",
    "train_explore(agent, env, epochs_train, prefix='cnn_train_explore')\n",
    "HTML(display_videos('cnn_train_explore10.mp4'))"
   ]
  },
  {
   "cell_type": "code",
   "execution_count": 129,
   "metadata": {},
   "outputs": [
    {
     "name": "stdout",
     "output_type": "stream",
     "text": [
      "Win/lose count 2.0/0. Average score (2.0)\n",
      "Win/lose count 5.5/0. Average score (3.75)\n",
      "Win/lose count 1.0/0. Average score (2.8333333333333335)\n",
      "Win/lose count 7.0/0. Average score (3.875)\n",
      "Win/lose count 6.0/0. Average score (4.3)\n",
      "Win/lose count 3.0/0. Average score (4.083333333333333)\n",
      "Win/lose count 15.5/2.0. Average score (5.428571428571429)\n",
      "Win/lose count 3.0/0. Average score (5.125)\n",
      "Win/lose count 1.5/0. Average score (4.722222222222222)\n",
      "Win/lose count 4.5/0. Average score (4.7)\n",
      "Win/lose count 4.5/0. Average score (4.681818181818182)\n",
      "Win/lose count 7.0/0. Average score (4.875)\n",
      "Win/lose count 8.5/1.0. Average score (5.076923076923077)\n",
      "Win/lose count 6.0/0. Average score (5.142857142857143)\n",
      "Win/lose count 8.0/0. Average score (5.333333333333333)\n",
      "Final score: 5.333333333333333\n"
     ]
    },
    {
     "data": {
      "text/html": [
       "<video alt=\"test\" controls>\n",
       "                <source src=\"data:video/mp4;base64,AAAAIGZ0eXBpc29tAAACAGlzb21pc28yYXZjMW1wNDEAAAAIZnJlZQAAFbptZGF0AAACrQYF//+p3EXpvebZSLeWLNgg2SPu73gyNjQgLSBjb3JlIDE1NyByMjkzNSA1NDVkZTJmIC0gSC4yNjQvTVBFRy00IEFWQyBjb2RlYyAtIENvcHlsZWZ0IDIwMDMtMjAxOCAtIGh0dHA6Ly93d3cudmlkZW9sYW4ub3JnL3gyNjQuaHRtbCAtIG9wdGlvbnM6IGNhYmFjPTEgcmVmPTMgZGVibG9jaz0xOjA6MCBhbmFseXNlPTB4MToweDExMSBtZT1oZXggc3VibWU9NyBwc3k9MSBwc3lfcmQ9MS4wMDowLjAwIG1peGVkX3JlZj0xIG1lX3JhbmdlPTE2IGNocm9tYV9tZT0xIHRyZWxsaXM9MSA4eDhkY3Q9MCBjcW09MCBkZWFkem9uZT0yMSwxMSBmYXN0X3Bza2lwPTEgY2hyb21hX3FwX29mZnNldD00IHRocmVhZHM9OCBsb29rYWhlYWRfdGhyZWFkcz0xIHNsaWNlZF90aHJlYWRzPTAgbnI9MCBkZWNpbWF0ZT0xIGludGVybGFjZWQ9MCBibHVyYXlfY29tcGF0PTAgY29uc3RyYWluZWRfaW50cmE9MCBiZnJhbWVzPTMgYl9weXJhbWlkPTIgYl9hZGFwdD0xIGJfYmlhcz0wIGRpcmVjdD0xIHdlaWdodGI9MSBvcGVuX2dvcD0wIHdlaWdodHA9MiBrZXlpbnQ9MjUwIGtleWludF9taW49MjUgc2NlbmVjdXQ9NDAgaW50cmFfcmVmcmVzaD0wIHJjX2xvb2thaGVhZD00MCByYz1jcmYgbWJ0cmVlPTEgY3JmPTIzLjAgcWNvbXA9MC42MCBxcG1pbj0wIHFwbWF4PTY5IHFwc3RlcD00IGlwX3JhdGlvPTEuNDAgYXE9MToxLjAwAIAAAAM0ZYiEADP//vaG+BTYUyP+T7/8I/+5H7cfWfrixkIJvrVeQ9GAMl8a/5lGYaXpyc8t7R+vTNAEZz8ZS8pY/so8y5CMyOpB8ClwE+/AppMihFQp+8otYqyk7Vbuyp25thtp0b3Oz2Wx0a8HdA/e7Zj1HWCQmkpaHXOHA29keMl18UpGlRsGcHUD4NFjgiVxIp++g3fzKTlfDdu4CknhVNAUHw/xZq6TtKG369AV7EIgCYHlkQa/HvMEPJ+gyXWY0MZWbTc/IEvAWzIAfyEHDGMFg9VBsJ2X98YBBQpUJ/ntIiZ3YLY9HUBYM2wek+4AI9zTWcxH+FHAzcGA52mqPaJvRjezxrjmVy+JbUoz488oJd3JNUHdxznkTmBooPJVvqa2u095LjjwAvEFuUGCEBft2XS0inioNHqXsya04ib5oEEdasuP5HjWmUjfiCx00ykqyezbkkdpHHIKvDPoAdIcLt9Zj8SrRuAXzx4mVyuXQ0YvJVX+bxwY4iH+YC/GbE0MiAUvss1mS2ror6YB7JuqcTYxTMyXZ/3sBodfNpcIDTWsCvowQh4/E9tG749tJOS+GSbMQlPlCAf10cPKCUmTCQnTC7KiloAA4e8HeLFqbaPcQ+OxFxKSAMELVqPcr5N3H7SX+UsqAhbNPDLA3i5Ay0N3+f4yhZZl1Uam3ZjSZNwCQAMVYJytOiXpuu6ZNSwZfMP7XI76DruAdz1VBKAsRQpJXNGDmk+xtyQSvkA5KP2hRxLG4DfuDLYchEd2Q4zACmokk9zgp21F9gCewPF1aR6mfxr9HAydbawdbP9STb3/grpRkb/JEfX3vV5O3j85cdd5WrqjtWedYzpovkOTGf9oOkhtv4aeAMNSuo+wx+dIhD/nGgy1Zt4CqXLXAXD+1tY5jEfyqY75SnPiDTWHhsI8PLO75JPSCf5TK/Lsb3b0o79jwA7oUDXgnWk+1o7MMiKBN8Xi7cA8OuHr7rtwIlsIXp9iFjwtZdqXnOccpyV8/y6sefL5AFilubeLadDlte/XdbAL2Qd+EMnIkEoPdW2izXDmdHD5gC75DykH9kMxBHJSlhDerFPBOHbwbY1b8ABaQQAAABdBmiJsQz/+nhABDSXKtwXk5zedXeL12AAAAA8BnkF5Cv8AOLGHlDQ1jr8AAAAXQZpDPCGTKYQz//6eEAEVEOP54L+SHXwAAAAbQZpkSeEPJlMCGf/+nhABr5DHP4c+ICmfrNtBAAAAGUGahUnhDyZTAhv//qeEAKv6J/qR0aQ03cEAAAAYQZqmSeEPJlMCG//+p4QBBEAWbYxQlFbBAAAAH0GayknhDyZTAhv//qeEAcbsH8+D5T89Gue2QY6DYEEAAAAWQZ7oRRE8L/8A8n3dT9cbKmmnkUzjgAAAABABnwd0Qr8BUegHO2ONM+kgAAAADwGfCWpCvwFIbbpRpDxJ4QAAABpBmwtJqEFomUwIb//+p4QBngDVmQLHPqplQAAAABlBmyxJ4QpSZTAh3/6plgDT+SWlnR1LsmLAAAAAH0GbTknhDomUwU0TDv/+qZYAy/jz8ul6UgdQg3DxXcEAAAAQAZ9takK/ATaT5zrQwvDxwQAAAB1Bm3JJ4Q8mUwId//6plgB3/aX9Vp0+qFkKYau9IQAAABBBn5BFETwv/wCOz/dRXSHgAAAADwGfr3RCvwDDgHxSbZKpDwAAAA8Bn7FqQr8AfDnDYHKbf4EAAAATQZu2SahBaJlMCHf//qmWAACVgAAAAAxBn9RFESwv/wAAsoAAAAAPAZ/zdEK/AHxbA0POeXVBAAAADwGf9WpCvwB8OcNErnl1QQAAABNBm/pJqEFsmUwId//+qZYAAJWBAAAADEGeGEUVLC//AACygQAAAA8Bnjd0Qr8AfFsDQ855dUEAAAAPAZ45akK/AHw5w0SueXVBAAAAE0GaPkmoQWyZTAh3//6plgAAlYAAAAAMQZ5cRRUsL/8AALKBAAAADwGee3RCvwB8WwNDznl1QQAAAA8Bnn1qQr8AfDnDRK55dUEAAAATQZpiSahBbJlMCHf//qmWAACVgAAAAAxBnoBFFSwv/wAAsoEAAAAPAZ6/dEK/AHxbA0POeXVBAAAADwGeoWpCvwB8OcNErnl1QQAAABNBmqZJqEFsmUwId//+qZYAAJWAAAAADEGexEUVLC//AACygQAAAA8BnuN0Qr8AfFsDQ855dUEAAAAPAZ7lakK/AHw5w0SueXVBAAAAE0Ga6kmoQWyZTAh3//6plgAAlYEAAAAMQZ8IRRUsL/8AALKAAAAADwGfJ3RCvwB8WwNDznl1QQAAAA8BnylqQr8AfDnDRK55dUEAAAATQZsuSahBbJlMCHf//qmWAACVgAAAAAxBn0xFFSwv/wAAsoAAAAAPAZ9rdEK/AHxbA0POeXVBAAAADwGfbWpCvwB8OcNErnl1QQAAABNBm3JJqEFsmUwId//+qZYAAJWBAAAADEGfkEUVLC//AACygAAAAA8Bn690Qr8AfFsDQ855dUEAAAAPAZ+xakK/AHw5w0SueXVBAAAAE0GbtkmoQWyZTAh3//6plgAAlYAAAAAMQZ/URRUsL/8AALKAAAAADwGf83RCvwB8WwNDznl1QQAAAA8Bn/VqQr8AfDnDRK55dUEAAAATQZv6SahBbJlMCHf//qmWAACVgQAAAAxBnhhFFSwv/wAAsoEAAAAPAZ43dEK/AHxbA0POeXVBAAAADwGeOWpCvwB8OcNErnl1QQAAABNBmj5JqEFsmUwId//+qZYAAJWAAAAADEGeXEUVLC//AACygQAAAA8Bnnt0Qr8AfFsDQ855dUEAAAAPAZ59akK/AHw5w0SueXVBAAAAE0GaYkmoQWyZTAh3//6plgAAlYAAAAAMQZ6ARRUsL/8AALKBAAAADwGev3RCvwB8WwNDznl1QQAAAA8BnqFqQr8AfDnDRK55dUEAAAATQZqmSahBbJlMCHf//qmWAACVgAAAAAxBnsRFFSwv/wAAsoEAAAAPAZ7jdEK/AHxbA0POeXVBAAAADwGe5WpCvwB8OcNErnl1QQAAABNBmupJqEFsmUwId//+qZYAAJWBAAAADEGfCEUVLC//AACygAAAAA8Bnyd0Qr8AfFsDQ855dUEAAAAPAZ8pakK/AHw5w0SueXVBAAAAE0GbLkmoQWyZTAh3//6plgAAlYAAAAAMQZ9MRRUsL/8AALKAAAAADwGfa3RCvwB8WwNDznl1QQAAAA8Bn21qQr8AfDnDRK55dUEAAAATQZtySahBbJlMCHf//qmWAACVgQAAAAxBn5BFFSwv/wAAsoAAAAAPAZ+vdEK/AHxbA0POeXVBAAAADwGfsWpCvwB8OcNErnl1QQAAABNBm7ZJqEFsmUwId//+qZYAAJWAAAAADEGf1EUVLC//AACygAAAAA8Bn/N0Qr8AfFsDQ855dUEAAAAPAZ/1akK/AHw5w0SueXVBAAAAE0Gb+kmoQWyZTAh3//6plgAAlYEAAAAMQZ4YRRUsL/8AALKBAAAADwGeN3RCvwB8WwNDznl1QQAAAA8BnjlqQr8AfDnDRK55dUEAAAATQZo+SahBbJlMCHf//qmWAACVgAAAAAxBnlxFFSwv/wAAsoEAAAAPAZ57dEK/AHxbA0POeXVBAAAADwGefWpCvwB8OcNErnl1QQAAABNBmmJJqEFsmUwId//+qZYAAJWAAAAADEGegEUVLC//AACygQAAAA8Bnr90Qr8AfFsDQ855dUEAAAAPAZ6hakK/AHw5w0SueXVBAAAAE0GapkmoQWyZTAh3//6plgAAlYAAAAAMQZ7ERRUsL/8AALKBAAAADwGe43RCvwB8WwNDznl1QQAAAA8BnuVqQr8AfDnDRK55dUEAAAATQZrqSahBbJlMCHf//qmWAACVgQAAAAxBnwhFFSwv/wAAsoAAAAAPAZ8ndEK/AHxbA0POeXVBAAAADwGfKWpCvwB8OcNErnl1QQAAABNBmy5JqEFsmUwId//+qZYAAJWAAAAADEGfTEUVLC//AACygAAAAA8Bn2t0Qr8AfFsDQ855dUEAAAAPAZ9takK/AHw5w0SueXVBAAAAE0GbckmoQWyZTAh3//6plgAAlYEAAAAMQZ+QRRUsL/8AALKAAAAADwGfr3RCvwB8WwNDznl1QQAAAA8Bn7FqQr8AfDnDRK55dUEAAAATQZu2SahBbJlMCHf//qmWAACVgAAAAAxBn9RFFSwv/wAAsoAAAAAPAZ/zdEK/AHxbA0POeXVBAAAADwGf9WpCvwB8OcNErnl1QQAAABNBm/pJqEFsmUwId//+qZYAAJWBAAAADEGeGEUVLC//AACygQAAAA8Bnjd0Qr8AfFsDQ855dUEAAAAPAZ45akK/AHw5w0SueXVBAAAAE0GaPkmoQWyZTAh3//6plgAAlYAAAAAMQZ5cRRUsL/8AALKBAAAADwGee3RCvwB8WwNDznl1QQAAAA8Bnn1qQr8AfDnDRK55dUEAAAATQZpiSahBbJlMCHf//qmWAACVgAAAAAxBnoBFFSwv/wAAsoEAAAAPAZ6/dEK/AHxbA0POeXVBAAAADwGeoWpCvwB8OcNErnl1QQAAABNBmqZJqEFsmUwId//+qZYAAJWAAAAADEGexEUVLC//AACygQAAAA8BnuN0Qr8AfFsDQ855dUEAAAAPAZ7lakK/AHw5w0SueXVBAAAAE0Ga6kmoQWyZTAh3//6plgAAlYEAAAAMQZ8IRRUsL/8AALKAAAAADwGfJ3RCvwB8WwNDznl1QQAAAA8BnylqQr8AfDnDRK55dUEAAAATQZsuSahBbJlMCHf//qmWAACVgAAAAAxBn0xFFSwv/wAAsoAAAAAPAZ9rdEK/AHxbA0POeXVBAAAADwGfbWpCvwB8OcNErnl1QQAAABNBm3JJqEFsmUwId//+qZYAAJWBAAAADEGfkEUVLC//AACygAAAAA8Bn690Qr8AfFsDQ855dUEAAAAPAZ+xakK/AHw5w0SueXVBAAAAE0GbtkmoQWyZTAh3//6plgAAlYAAAAAMQZ/URRUsL/8AALKAAAAADwGf83RCvwB8WwNDznl1QQAAAA8Bn/VqQr8AfDnDRK55dUEAAAATQZv6SahBbJlMCHf//qmWAACVgQAAAAxBnhhFFSwv/wAAsoEAAAAPAZ43dEK/AHxbA0POeXVBAAAADwGeOWpCvwB8OcNErnl1QQAAABNBmj5JqEFsmUwId//+qZYAAJWAAAAADEGeXEUVLC//AACygQAAAA8Bnnt0Qr8AfFsDQ855dUEAAAAPAZ59akK/AHw5w0SueXVBAAAAE0GaYkmoQWyZTAh3//6plgAAlYAAAAAMQZ6ARRUsL/8AALKBAAAADwGev3RCvwB8WwNDznl1QQAAAA8BnqFqQr8AfDnDRK55dUEAAAATQZqmSahBbJlMCHf//qmWAACVgAAAAAxBnsRFFSwv/wAAsoEAAAAPAZ7jdEK/AHxbA0POeXVBAAAADwGe5WpCvwB8OcNErnl1QQAAABNBmupJqEFsmUwId//+qZYAAJWBAAAADEGfCEUVLC//AACygAAAAA8Bnyd0Qr8AfFsDQ855dUEAAAAPAZ8pakK/AHw5w0SueXVBAAAAE0GbLkmoQWyZTAh3//6plgAAlYAAAAAMQZ9MRRUsL/8AALKAAAAADwGfa3RCvwB8WwNDznl1QQAAAA8Bn21qQr8AfDnDRK55dUEAAAATQZtySahBbJlMCHf//qmWAACVgQAAAAxBn5BFFSwv/wAAsoAAAAAPAZ+vdEK/AHxbA0POeXVBAAAADwGfsWpCvwB8OcNErnl1QQAAABNBm7ZJqEFsmUwId//+qZYAAJWAAAAADEGf1EUVLC//AACygAAAAA8Bn/N0Qr8AfFsDQ855dUEAAAAPAZ/1akK/AHw5w0SueXVBAAAAE0Gb+kmoQWyZTAh3//6plgAAlYEAAAAMQZ4YRRUsL/8AALKBAAAADwGeN3RCvwB8WwNDznl1QQAAAA8BnjlqQr8AfDnDRK55dUEAAAATQZo+SahBbJlMCHf//qmWAACVgAAAAAxBnlxFFSwv/wAAsoEAAAAPAZ57dEK/AHxbA0POeXVBAAAADwGefWpCvwB8OcNErnl1QQAAABJBmmJJqEFsmUwIb//+p4QAAScAAAAMQZ6ARRUsL/8AALKBAAAADwGev3RCvwB8WwNDznl1QQAAAA8BnqFqQr8AfDnDRK55dUEAAAASQZqmSahBbJlMCGf//p4QAAR8AAAADEGexEUVLC//AACygQAAAA8BnuN0Qr8AfFsDQ855dUEAAAAPAZ7lakK/AHw5w0SueXVBAAAAGkGa6UuoQhBbJEYIKAfyAf2HgCFf/jhAABFxAAAAKEGfB0UVLCv/Aq9j7UHE3arDSSblqoYHLn38G0WMIq8kzI/FJy65tmAAAAAiAZ8oakK/Aq9j7UHE3arDSSblqoYHLn6WTZSZ8qOkcjKC/gAADGBtb292AAAAbG12aGQAAAAAAAAAAAAAAAAAAAPoAAAfkAABAAABAAAAAAAAAAAAAAAAAQAAAAAAAAAAAAAAAAAAAAEAAAAAAAAAAAAAAAAAAEAAAAAAAAAAAAAAAAAAAAAAAAAAAAAAAAAAAAAAAAACAAALinRyYWsAAABcdGtoZAAAAAMAAAAAAAAAAAAAAAEAAAAAAAAfkAAAAAAAAAAAAAAAAAAAAAAAAQAAAAAAAAAAAAAAAAAAAAEAAAAAAAAAAAAAAAAAAEAAAAABEAAAARAAAAAAACRlZHRzAAAAHGVsc3QAAAAAAAAAAQAAH5AAAAQAAAEAAAAACwJtZGlhAAAAIG1kaGQAAAAAAAAAAAAAAAAAADIAAAGUAFXEAAAAAAAtaGRscgAAAAAAAAAAdmlkZQAAAAAAAAAAAAAAAFZpZGVvSGFuZGxlcgAAAAqtbWluZgAAABR2bWhkAAAAAQAAAAAAAAAAAAAAJGRpbmYAAAAcZHJlZgAAAAAAAAABAAAADHVybCAAAAABAAAKbXN0YmwAAACVc3RzZAAAAAAAAAABAAAAhWF2YzEAAAAAAAAAAQAAAAAAAAAAAAAAAAAAAAABEAEQAEgAAABIAAAAAAAAAAEAAAAAAAAAAAAAAAAAAAAAAAAAAAAAAAAAAAAAAAAAAAAY//8AAAAvYXZjQwH0AA3/4QAXZ/QADZGbKCIR0IAAAAMAgAAAGQeKFMsBAAVo6+PESAAAABhzdHRzAAAAAAAAAAEAAADKAAACAAAAABRzdHNzAAAAAAAAAAEAAAABAAAGOGN0dHMAAAAAAAAAxQAAAAEAAAQAAAAAAQAABgAAAAABAAACAAAAAAQAAAQAAAAAAQAACgAAAAABAAAEAAAAAAEAAAAAAAAAAQAAAgAAAAACAAAEAAAAAAEAAAYAAAAAAQAAAgAAAAABAAAKAAAAAAEAAAQAAAAAAQAAAAAAAAABAAACAAAAAAEAAAoAAAAAAQAABAAAAAABAAAAAAAAAAEAAAIAAAAAAQAACgAAAAABAAAEAAAAAAEAAAAAAAAAAQAAAgAAAAABAAAKAAAAAAEAAAQAAAAAAQAAAAAAAAABAAACAAAAAAEAAAoAAAAAAQAABAAAAAABAAAAAAAAAAEAAAIAAAAAAQAACgAAAAABAAAEAAAAAAEAAAAAAAAAAQAAAgAAAAABAAAKAAAAAAEAAAQAAAAAAQAAAAAAAAABAAACAAAAAAEAAAoAAAAAAQAABAAAAAABAAAAAAAAAAEAAAIAAAAAAQAACgAAAAABAAAEAAAAAAEAAAAAAAAAAQAAAgAAAAABAAAKAAAAAAEAAAQAAAAAAQAAAAAAAAABAAACAAAAAAEAAAoAAAAAAQAABAAAAAABAAAAAAAAAAEAAAIAAAAAAQAACgAAAAABAAAEAAAAAAEAAAAAAAAAAQAAAgAAAAABAAAKAAAAAAEAAAQAAAAAAQAAAAAAAAABAAACAAAAAAEAAAoAAAAAAQAABAAAAAABAAAAAAAAAAEAAAIAAAAAAQAACgAAAAABAAAEAAAAAAEAAAAAAAAAAQAAAgAAAAABAAAKAAAAAAEAAAQAAAAAAQAAAAAAAAABAAACAAAAAAEAAAoAAAAAAQAABAAAAAABAAAAAAAAAAEAAAIAAAAAAQAACgAAAAABAAAEAAAAAAEAAAAAAAAAAQAAAgAAAAABAAAKAAAAAAEAAAQAAAAAAQAAAAAAAAABAAACAAAAAAEAAAoAAAAAAQAABAAAAAABAAAAAAAAAAEAAAIAAAAAAQAACgAAAAABAAAEAAAAAAEAAAAAAAAAAQAAAgAAAAABAAAKAAAAAAEAAAQAAAAAAQAAAAAAAAABAAACAAAAAAEAAAoAAAAAAQAABAAAAAABAAAAAAAAAAEAAAIAAAAAAQAACgAAAAABAAAEAAAAAAEAAAAAAAAAAQAAAgAAAAABAAAKAAAAAAEAAAQAAAAAAQAAAAAAAAABAAACAAAAAAEAAAoAAAAAAQAABAAAAAABAAAAAAAAAAEAAAIAAAAAAQAACgAAAAABAAAEAAAAAAEAAAAAAAAAAQAAAgAAAAABAAAKAAAAAAEAAAQAAAAAAQAAAAAAAAABAAACAAAAAAEAAAoAAAAAAQAABAAAAAABAAAAAAAAAAEAAAIAAAAAAQAACgAAAAABAAAEAAAAAAEAAAAAAAAAAQAAAgAAAAABAAAKAAAAAAEAAAQAAAAAAQAAAAAAAAABAAACAAAAAAEAAAoAAAAAAQAABAAAAAABAAAAAAAAAAEAAAIAAAAAAQAACgAAAAABAAAEAAAAAAEAAAAAAAAAAQAAAgAAAAABAAAKAAAAAAEAAAQAAAAAAQAAAAAAAAABAAACAAAAAAEAAAoAAAAAAQAABAAAAAABAAAAAAAAAAEAAAIAAAAAAQAACgAAAAABAAAEAAAAAAEAAAAAAAAAAQAAAgAAAAABAAAKAAAAAAEAAAQAAAAAAQAAAAAAAAABAAACAAAAAAEAAAoAAAAAAQAABAAAAAABAAAAAAAAAAEAAAIAAAAAAQAACgAAAAABAAAEAAAAAAEAAAAAAAAAAQAAAgAAAAABAAAKAAAAAAEAAAQAAAAAAQAAAAAAAAABAAACAAAAAAEAAAoAAAAAAQAABAAAAAABAAAAAAAAAAEAAAIAAAAAAQAACgAAAAABAAAEAAAAAAEAAAAAAAAAAQAAAgAAAAABAAAKAAAAAAEAAAQAAAAAAQAAAAAAAAABAAACAAAAAAEAAAoAAAAAAQAABAAAAAABAAAAAAAAAAEAAAIAAAAAAQAACgAAAAABAAAEAAAAAAEAAAAAAAAAAQAAAgAAAAABAAAKAAAAAAEAAAQAAAAAAQAAAAAAAAABAAACAAAAAAEAAAgAAAAAAgAAAgAAAAAcc3RzYwAAAAAAAAABAAAAAQAAAMoAAAABAAADPHN0c3oAAAAAAAAAAAAAAMoAAAXpAAAAGwAAABMAAAAbAAAAHwAAAB0AAAAcAAAAIwAAABoAAAAUAAAAEwAAAB4AAAAdAAAAIwAAABQAAAAhAAAAFAAAABMAAAATAAAAFwAAABAAAAATAAAAEwAAABcAAAAQAAAAEwAAABMAAAAXAAAAEAAAABMAAAATAAAAFwAAABAAAAATAAAAEwAAABcAAAAQAAAAEwAAABMAAAAXAAAAEAAAABMAAAATAAAAFwAAABAAAAATAAAAEwAAABcAAAAQAAAAEwAAABMAAAAXAAAAEAAAABMAAAATAAAAFwAAABAAAAATAAAAEwAAABcAAAAQAAAAEwAAABMAAAAXAAAAEAAAABMAAAATAAAAFwAAABAAAAATAAAAEwAAABcAAAAQAAAAEwAAABMAAAAXAAAAEAAAABMAAAATAAAAFwAAABAAAAATAAAAEwAAABcAAAAQAAAAEwAAABMAAAAXAAAAEAAAABMAAAATAAAAFwAAABAAAAATAAAAEwAAABcAAAAQAAAAEwAAABMAAAAXAAAAEAAAABMAAAATAAAAFwAAABAAAAATAAAAEwAAABcAAAAQAAAAEwAAABMAAAAXAAAAEAAAABMAAAATAAAAFwAAABAAAAATAAAAEwAAABcAAAAQAAAAEwAAABMAAAAXAAAAEAAAABMAAAATAAAAFwAAABAAAAATAAAAEwAAABcAAAAQAAAAEwAAABMAAAAXAAAAEAAAABMAAAATAAAAFwAAABAAAAATAAAAEwAAABcAAAAQAAAAEwAAABMAAAAXAAAAEAAAABMAAAATAAAAFwAAABAAAAATAAAAEwAAABcAAAAQAAAAEwAAABMAAAAXAAAAEAAAABMAAAATAAAAFwAAABAAAAATAAAAEwAAABcAAAAQAAAAEwAAABMAAAAXAAAAEAAAABMAAAATAAAAFwAAABAAAAATAAAAEwAAABcAAAAQAAAAEwAAABMAAAAXAAAAEAAAABMAAAATAAAAFwAAABAAAAATAAAAEwAAABYAAAAQAAAAEwAAABMAAAAWAAAAEAAAABMAAAATAAAAHgAAACwAAAAmAAAAFHN0Y28AAAAAAAAAAQAAADAAAABidWR0YQAAAFptZXRhAAAAAAAAACFoZGxyAAAAAAAAAABtZGlyYXBwbAAAAAAAAAAAAAAAAC1pbHN0AAAAJal0b28AAAAdZGF0YQAAAAEAAAAATGF2ZjU4LjI2LjEwMA==\" type=\"video/mp4\" />\n",
       "             </video>"
      ],
      "text/plain": [
       "<IPython.core.display.HTML object>"
      ]
     },
     "execution_count": 129,
     "metadata": {},
     "output_type": "execute_result"
    }
   ],
   "source": [
    "# Evaluation\n",
    "test(agent,env,epochs_test,prefix='cnn_test_explore')\n",
    "HTML(display_videos('cnn_test_explore10.mp4'))"
   ]
  },
  {
   "cell_type": "markdown",
   "metadata": {},
   "source": [
    "***\n",
    "***\n",
    "__BONUS question__ Use the expert DQN from the previous question to generate some winning games. Train a model that mimicks its behavior. Compare the performances."
   ]
  },
  {
   "cell_type": "markdown",
   "metadata": {},
   "source": []
  },
  {
   "cell_type": "markdown",
   "metadata": {},
   "source": [
    "***"
   ]
  }
 ],
 "metadata": {
  "kernelspec": {
   "display_name": "Python 3",
   "language": "python",
   "name": "python3"
  },
  "language_info": {
   "codemirror_mode": {
    "name": "ipython",
    "version": 3
   },
   "file_extension": ".py",
   "mimetype": "text/x-python",
   "name": "python",
   "nbconvert_exporter": "python",
   "pygments_lexer": "ipython3",
   "version": "3.6.7"
  }
 },
 "nbformat": 4,
 "nbformat_minor": 2
}
